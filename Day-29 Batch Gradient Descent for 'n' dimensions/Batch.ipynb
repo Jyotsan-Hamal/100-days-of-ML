{
 "cells": [
  {
   "cell_type": "code",
   "execution_count": 4,
   "id": "300c5ef0",
   "metadata": {},
   "outputs": [],
   "source": [
    "from sklearn.datasets import load_diabetes\n",
    "import numpy as np\n",
    "from sklearn.datasets import make_regression\n",
    "from sklearn.metrics import r2_score\n",
    "from sklearn.linear_model import LinearRegression\n",
    "from sklearn.model_selection import train_test_split"
   ]
  },
  {
   "cell_type": "code",
   "execution_count": 6,
   "id": "678203c3",
   "metadata": {},
   "outputs": [],
   "source": [
    "data = load_diabetes()"
   ]
  },
  {
   "cell_type": "code",
   "execution_count": 7,
   "id": "4ab6004e",
   "metadata": {},
   "outputs": [],
   "source": [
    "x  =data.data\n",
    "y = data.target"
   ]
  },
  {
   "cell_type": "code",
   "execution_count": 12,
   "id": "65cef493",
   "metadata": {},
   "outputs": [],
   "source": [
    "x_train,x_test,y_train,y_test = train_test_split(x,y,test_size=0.2)"
   ]
  },
  {
   "cell_type": "code",
   "execution_count": 13,
   "id": "c1f29df2",
   "metadata": {},
   "outputs": [
    {
     "data": {
      "text/plain": [
       "LinearRegression()"
      ]
     },
     "execution_count": 13,
     "metadata": {},
     "output_type": "execute_result"
    }
   ],
   "source": [
    "lr = LinearRegression()\n",
    "lr.fit(x_train,y_train)"
   ]
  },
  {
   "cell_type": "code",
   "execution_count": 14,
   "id": "32f0dce7",
   "metadata": {},
   "outputs": [
    {
     "data": {
      "text/plain": [
       "(152.95718515197672,\n",
       " array([ -34.18996059, -214.5747229 ,  577.83070871,  318.02499461,\n",
       "        -617.89128677,  362.33620127,   64.94516952,  183.11827881,\n",
       "         703.1077006 ,   36.04969302]))"
      ]
     },
     "execution_count": 14,
     "metadata": {},
     "output_type": "execute_result"
    }
   ],
   "source": [
    "lr.intercept_,lr.coef_"
   ]
  },
  {
   "cell_type": "code",
   "execution_count": 16,
   "id": "9e2d303b",
   "metadata": {},
   "outputs": [
    {
     "data": {
      "text/plain": [
       "0.4473678653280465"
      ]
     },
     "execution_count": 16,
     "metadata": {},
     "output_type": "execute_result"
    }
   ],
   "source": [
    "y_pred = lr.predict(x_test)\n",
    "r2_score(y_test,y_pred)"
   ]
  },
  {
   "cell_type": "code",
   "execution_count": 40,
   "id": "20444d1f",
   "metadata": {},
   "outputs": [],
   "source": [
    "class Batch_Gradient:\n",
    "    def __init__(self,learning_rate=0.01,epochs=100):\n",
    "        self.coef_ = None\n",
    "        self.intercept_ = None\n",
    "        self.lr = learning_rate\n",
    "        self.ep = epochs\n",
    "    def fit(self,x_train,y_train):\n",
    "        #initiaiting coefficent\n",
    "        self.intercept_ = 0\n",
    "        self.coef_ = np.ones(x_train.shape[1])\n",
    "        for i in range(self.ep):\n",
    "            #update slope\n",
    "            y_hat = np.dot(x_train,self.coef_) + self.intercept_\n",
    "            \n",
    "            intercept_der = -2*np.sum(y_train-y_hat)/x_train.shape[0]\n",
    "            coef_der = -2*np.dot((y_train-y_hat),x_train)/x_train.shape[0]\n",
    "            \n",
    "            self.intercept_ = self.intercept_ - (self.lr*intercept_der)\n",
    "            self.coef_ = self.coef_ - (self.lr*coef_der)\n",
    "        print(self.intercept_,self.coef_)\n",
    "        \n",
    "    def predict(self,x_test):\n",
    "        return np.dot(x_test,self.coef_)+self.intercept_"
   ]
  },
  {
   "cell_type": "code",
   "execution_count": 65,
   "id": "4e005857",
   "metadata": {},
   "outputs": [],
   "source": [
    "gd = Batch_Gradient(learning_rate=0.9,epochs=1000)"
   ]
  },
  {
   "cell_type": "code",
   "execution_count": 66,
   "id": "4e7d3f36",
   "metadata": {},
   "outputs": [
    {
     "name": "stdout",
     "output_type": "stream",
     "text": [
      "153.12709179016494 [ -29.66572057 -208.27451022  573.73702071  314.29703908  -32.44341328\n",
      " -106.43873047 -192.87172489  132.146612    449.44585328   61.20082336]\n"
     ]
    }
   ],
   "source": [
    "gd.fit(x_train,y_train)"
   ]
  },
  {
   "cell_type": "code",
   "execution_count": 67,
   "id": "febbfeb1",
   "metadata": {},
   "outputs": [],
   "source": [
    "y_pred = gd.predict(x_test)"
   ]
  },
  {
   "cell_type": "code",
   "execution_count": 68,
   "id": "de8a7faa",
   "metadata": {},
   "outputs": [
    {
     "data": {
      "text/plain": [
       "0.4416048673385624"
      ]
     },
     "execution_count": 68,
     "metadata": {},
     "output_type": "execute_result"
    }
   ],
   "source": [
    "r2_score(y_test,y_pred)"
   ]
  },
  {
   "cell_type": "code",
   "execution_count": null,
   "id": "4233043f",
   "metadata": {},
   "outputs": [],
   "source": []
  }
 ],
 "metadata": {
  "kernelspec": {
   "display_name": "Python 3 (ipykernel)",
   "language": "python",
   "name": "python3"
  },
  "language_info": {
   "codemirror_mode": {
    "name": "ipython",
    "version": 3
   },
   "file_extension": ".py",
   "mimetype": "text/x-python",
   "name": "python",
   "nbconvert_exporter": "python",
   "pygments_lexer": "ipython3",
   "version": "3.9.13"
  }
 },
 "nbformat": 4,
 "nbformat_minor": 5
}
