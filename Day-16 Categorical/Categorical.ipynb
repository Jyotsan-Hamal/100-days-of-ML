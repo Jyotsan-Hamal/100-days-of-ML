{
 "cells": [
  {
   "cell_type": "code",
   "execution_count": 39,
   "id": "49dfe713",
   "metadata": {},
   "outputs": [],
   "source": [
    "import numpy as np\n",
    "import pandas as pd\n",
    "import seaborn as sns\n"
   ]
  },
  {
   "cell_type": "code",
   "execution_count": 2,
   "id": "6384838b",
   "metadata": {},
   "outputs": [],
   "source": [
    "from sklearn.compose import ColumnTransformer\n",
    "from sklearn.impute import SimpleImputer\n",
    "from sklearn.model_selection import train_test_split"
   ]
  },
  {
   "cell_type": "code",
   "execution_count": 3,
   "id": "9f293c19",
   "metadata": {},
   "outputs": [],
   "source": [
    "df = pd.read_csv('titanic_toy.csv')"
   ]
  },
  {
   "cell_type": "code",
   "execution_count": 4,
   "id": "d4beab00",
   "metadata": {},
   "outputs": [
    {
     "data": {
      "text/html": [
       "<div>\n",
       "<style scoped>\n",
       "    .dataframe tbody tr th:only-of-type {\n",
       "        vertical-align: middle;\n",
       "    }\n",
       "\n",
       "    .dataframe tbody tr th {\n",
       "        vertical-align: top;\n",
       "    }\n",
       "\n",
       "    .dataframe thead th {\n",
       "        text-align: right;\n",
       "    }\n",
       "</style>\n",
       "<table border=\"1\" class=\"dataframe\">\n",
       "  <thead>\n",
       "    <tr style=\"text-align: right;\">\n",
       "      <th></th>\n",
       "      <th>Age</th>\n",
       "      <th>Fare</th>\n",
       "      <th>Family</th>\n",
       "      <th>Survived</th>\n",
       "    </tr>\n",
       "  </thead>\n",
       "  <tbody>\n",
       "    <tr>\n",
       "      <th>0</th>\n",
       "      <td>22.0</td>\n",
       "      <td>7.2500</td>\n",
       "      <td>1</td>\n",
       "      <td>0</td>\n",
       "    </tr>\n",
       "    <tr>\n",
       "      <th>1</th>\n",
       "      <td>38.0</td>\n",
       "      <td>71.2833</td>\n",
       "      <td>1</td>\n",
       "      <td>1</td>\n",
       "    </tr>\n",
       "    <tr>\n",
       "      <th>2</th>\n",
       "      <td>26.0</td>\n",
       "      <td>7.9250</td>\n",
       "      <td>0</td>\n",
       "      <td>1</td>\n",
       "    </tr>\n",
       "    <tr>\n",
       "      <th>3</th>\n",
       "      <td>35.0</td>\n",
       "      <td>53.1000</td>\n",
       "      <td>1</td>\n",
       "      <td>1</td>\n",
       "    </tr>\n",
       "    <tr>\n",
       "      <th>4</th>\n",
       "      <td>35.0</td>\n",
       "      <td>8.0500</td>\n",
       "      <td>0</td>\n",
       "      <td>0</td>\n",
       "    </tr>\n",
       "  </tbody>\n",
       "</table>\n",
       "</div>"
      ],
      "text/plain": [
       "    Age     Fare  Family  Survived\n",
       "0  22.0   7.2500       1         0\n",
       "1  38.0  71.2833       1         1\n",
       "2  26.0   7.9250       0         1\n",
       "3  35.0  53.1000       1         1\n",
       "4  35.0   8.0500       0         0"
      ]
     },
     "execution_count": 4,
     "metadata": {},
     "output_type": "execute_result"
    }
   ],
   "source": [
    "df.head()"
   ]
  },
  {
   "cell_type": "code",
   "execution_count": 5,
   "id": "571b6dc5",
   "metadata": {},
   "outputs": [
    {
     "data": {
      "text/plain": [
       "Age         177\n",
       "Fare         45\n",
       "Family        0\n",
       "Survived      0\n",
       "dtype: int64"
      ]
     },
     "execution_count": 5,
     "metadata": {},
     "output_type": "execute_result"
    }
   ],
   "source": [
    "df.isnull().sum()"
   ]
  },
  {
   "cell_type": "code",
   "execution_count": 6,
   "id": "412083c7",
   "metadata": {},
   "outputs": [
    {
     "name": "stdout",
     "output_type": "stream",
     "text": [
      "<class 'pandas.core.frame.DataFrame'>\n",
      "RangeIndex: 891 entries, 0 to 890\n",
      "Data columns (total 4 columns):\n",
      " #   Column    Non-Null Count  Dtype  \n",
      "---  ------    --------------  -----  \n",
      " 0   Age       714 non-null    float64\n",
      " 1   Fare      846 non-null    float64\n",
      " 2   Family    891 non-null    int64  \n",
      " 3   Survived  891 non-null    int64  \n",
      "dtypes: float64(2), int64(2)\n",
      "memory usage: 28.0 KB\n"
     ]
    }
   ],
   "source": [
    "df.info()"
   ]
  },
  {
   "cell_type": "code",
   "execution_count": 8,
   "id": "69fdbb6d",
   "metadata": {},
   "outputs": [
    {
     "data": {
      "text/plain": [
       "Age         19.865320\n",
       "Fare         5.050505\n",
       "Family       0.000000\n",
       "Survived     0.000000\n",
       "dtype: float64"
      ]
     },
     "execution_count": 8,
     "metadata": {},
     "output_type": "execute_result"
    }
   ],
   "source": [
    "df.isnull().mean()*100"
   ]
  },
  {
   "cell_type": "code",
   "execution_count": 13,
   "id": "d453bce0",
   "metadata": {},
   "outputs": [],
   "source": [
    "x = df[['Age','Fare','Family']]\n",
    "y = df[['Survived']]"
   ]
  },
  {
   "cell_type": "code",
   "execution_count": 25,
   "id": "49985e9a",
   "metadata": {},
   "outputs": [],
   "source": [
    "x_train,x_test,y_train,y_test = train_test_split(x,y,test_size=0.2)"
   ]
  },
  {
   "cell_type": "code",
   "execution_count": 26,
   "id": "c14524f0",
   "metadata": {},
   "outputs": [
    {
     "data": {
      "text/plain": [
       "((712, 3), (179, 3))"
      ]
     },
     "execution_count": 26,
     "metadata": {},
     "output_type": "execute_result"
    }
   ],
   "source": [
    "x_train.shape,x_test.shape"
   ]
  },
  {
   "cell_type": "code",
   "execution_count": 27,
   "id": "9e1bd453",
   "metadata": {},
   "outputs": [
    {
     "data": {
      "text/plain": [
       "Age       19.803371\n",
       "Fare       5.196629\n",
       "Family     0.000000\n",
       "dtype: float64"
      ]
     },
     "execution_count": 27,
     "metadata": {},
     "output_type": "execute_result"
    }
   ],
   "source": [
    "x_train.isnull().mean()*100\n"
   ]
  },
  {
   "cell_type": "code",
   "execution_count": 36,
   "id": "b6227cda",
   "metadata": {},
   "outputs": [
    {
     "data": {
      "text/plain": [
       "29.56772329246935"
      ]
     },
     "execution_count": 36,
     "metadata": {},
     "output_type": "execute_result"
    }
   ],
   "source": [
    "mean_age = x_train['Age'].mean()\n",
    "median_age = x_train['Age'].median()\n",
    "mean_age"
   ]
  },
  {
   "cell_type": "code",
   "execution_count": 32,
   "id": "176cdee3",
   "metadata": {},
   "outputs": [],
   "source": [
    "mean_fare = x_train['Fare'].mean()\n",
    "median_fare = x_train['Fare'].median()"
   ]
  },
  {
   "cell_type": "code",
   "execution_count": 37,
   "id": "02b086b5",
   "metadata": {},
   "outputs": [],
   "source": [
    "x_train['mean_age'] = x_train['Age'].fillna(mean_age)\n",
    "x_train['median_age'] = x_train['Age'].fillna(median_age)\n",
    "\n",
    "x_train['mean_fare'] = x_train['Fare'].fillna(mean_fare)\n",
    "x_train['median_fare'] = x_train['Fare'].fillna(median_fare)"
   ]
  },
  {
   "cell_type": "code",
   "execution_count": 38,
   "id": "04686054",
   "metadata": {},
   "outputs": [
    {
     "data": {
      "text/html": [
       "<div>\n",
       "<style scoped>\n",
       "    .dataframe tbody tr th:only-of-type {\n",
       "        vertical-align: middle;\n",
       "    }\n",
       "\n",
       "    .dataframe tbody tr th {\n",
       "        vertical-align: top;\n",
       "    }\n",
       "\n",
       "    .dataframe thead th {\n",
       "        text-align: right;\n",
       "    }\n",
       "</style>\n",
       "<table border=\"1\" class=\"dataframe\">\n",
       "  <thead>\n",
       "    <tr style=\"text-align: right;\">\n",
       "      <th></th>\n",
       "      <th>Age</th>\n",
       "      <th>Fare</th>\n",
       "      <th>Family</th>\n",
       "      <th>mean_age</th>\n",
       "      <th>median_age</th>\n",
       "      <th>mean_fare</th>\n",
       "      <th>median_fare</th>\n",
       "    </tr>\n",
       "  </thead>\n",
       "  <tbody>\n",
       "    <tr>\n",
       "      <th>678</th>\n",
       "      <td>43.0</td>\n",
       "      <td>46.9000</td>\n",
       "      <td>7</td>\n",
       "      <td>43.000000</td>\n",
       "      <td>43.0</td>\n",
       "      <td>46.90000</td>\n",
       "      <td>46.9000</td>\n",
       "    </tr>\n",
       "    <tr>\n",
       "      <th>712</th>\n",
       "      <td>48.0</td>\n",
       "      <td>52.0000</td>\n",
       "      <td>1</td>\n",
       "      <td>48.000000</td>\n",
       "      <td>48.0</td>\n",
       "      <td>52.00000</td>\n",
       "      <td>52.0000</td>\n",
       "    </tr>\n",
       "    <tr>\n",
       "      <th>295</th>\n",
       "      <td>NaN</td>\n",
       "      <td>27.7208</td>\n",
       "      <td>0</td>\n",
       "      <td>29.567723</td>\n",
       "      <td>28.0</td>\n",
       "      <td>27.72080</td>\n",
       "      <td>27.7208</td>\n",
       "    </tr>\n",
       "    <tr>\n",
       "      <th>293</th>\n",
       "      <td>24.0</td>\n",
       "      <td>8.8500</td>\n",
       "      <td>0</td>\n",
       "      <td>24.000000</td>\n",
       "      <td>24.0</td>\n",
       "      <td>8.85000</td>\n",
       "      <td>8.8500</td>\n",
       "    </tr>\n",
       "    <tr>\n",
       "      <th>434</th>\n",
       "      <td>50.0</td>\n",
       "      <td>NaN</td>\n",
       "      <td>1</td>\n",
       "      <td>50.000000</td>\n",
       "      <td>50.0</td>\n",
       "      <td>32.48095</td>\n",
       "      <td>14.4542</td>\n",
       "    </tr>\n",
       "    <tr>\n",
       "      <th>...</th>\n",
       "      <td>...</td>\n",
       "      <td>...</td>\n",
       "      <td>...</td>\n",
       "      <td>...</td>\n",
       "      <td>...</td>\n",
       "      <td>...</td>\n",
       "      <td>...</td>\n",
       "    </tr>\n",
       "    <tr>\n",
       "      <th>106</th>\n",
       "      <td>21.0</td>\n",
       "      <td>7.6500</td>\n",
       "      <td>0</td>\n",
       "      <td>21.000000</td>\n",
       "      <td>21.0</td>\n",
       "      <td>7.65000</td>\n",
       "      <td>7.6500</td>\n",
       "    </tr>\n",
       "    <tr>\n",
       "      <th>213</th>\n",
       "      <td>30.0</td>\n",
       "      <td>13.0000</td>\n",
       "      <td>0</td>\n",
       "      <td>30.000000</td>\n",
       "      <td>30.0</td>\n",
       "      <td>13.00000</td>\n",
       "      <td>13.0000</td>\n",
       "    </tr>\n",
       "    <tr>\n",
       "      <th>178</th>\n",
       "      <td>30.0</td>\n",
       "      <td>13.0000</td>\n",
       "      <td>0</td>\n",
       "      <td>30.000000</td>\n",
       "      <td>30.0</td>\n",
       "      <td>13.00000</td>\n",
       "      <td>13.0000</td>\n",
       "    </tr>\n",
       "    <tr>\n",
       "      <th>198</th>\n",
       "      <td>NaN</td>\n",
       "      <td>7.7500</td>\n",
       "      <td>0</td>\n",
       "      <td>29.567723</td>\n",
       "      <td>28.0</td>\n",
       "      <td>7.75000</td>\n",
       "      <td>7.7500</td>\n",
       "    </tr>\n",
       "    <tr>\n",
       "      <th>667</th>\n",
       "      <td>NaN</td>\n",
       "      <td>7.7750</td>\n",
       "      <td>0</td>\n",
       "      <td>29.567723</td>\n",
       "      <td>28.0</td>\n",
       "      <td>7.77500</td>\n",
       "      <td>7.7750</td>\n",
       "    </tr>\n",
       "  </tbody>\n",
       "</table>\n",
       "<p>712 rows × 7 columns</p>\n",
       "</div>"
      ],
      "text/plain": [
       "      Age     Fare  Family   mean_age  median_age  mean_fare  median_fare\n",
       "678  43.0  46.9000       7  43.000000        43.0   46.90000      46.9000\n",
       "712  48.0  52.0000       1  48.000000        48.0   52.00000      52.0000\n",
       "295   NaN  27.7208       0  29.567723        28.0   27.72080      27.7208\n",
       "293  24.0   8.8500       0  24.000000        24.0    8.85000       8.8500\n",
       "434  50.0      NaN       1  50.000000        50.0   32.48095      14.4542\n",
       "..    ...      ...     ...        ...         ...        ...          ...\n",
       "106  21.0   7.6500       0  21.000000        21.0    7.65000       7.6500\n",
       "213  30.0  13.0000       0  30.000000        30.0   13.00000      13.0000\n",
       "178  30.0  13.0000       0  30.000000        30.0   13.00000      13.0000\n",
       "198   NaN   7.7500       0  29.567723        28.0    7.75000       7.7500\n",
       "667   NaN   7.7750       0  29.567723        28.0    7.77500       7.7750\n",
       "\n",
       "[712 rows x 7 columns]"
      ]
     },
     "execution_count": 38,
     "metadata": {},
     "output_type": "execute_result"
    }
   ],
   "source": [
    "x_train"
   ]
  },
  {
   "cell_type": "code",
   "execution_count": 50,
   "id": "f2c230d6",
   "metadata": {},
   "outputs": [
    {
     "data": {
      "text/plain": [
       "<AxesSubplot:xlabel='Age', ylabel='Density'>"
      ]
     },
     "execution_count": 50,
     "metadata": {},
     "output_type": "execute_result"
    },
    {
     "data": {
      "image/png": "[encoded data removed]",
      "text/plain": [
       "<Figure size 640x480 with 1 Axes>"
      ]
     },
     "metadata": {},
     "output_type": "display_data"
    }
   ],
   "source": [
    "sns.kdeplot(x_train['Age'])"
   ]
  },
  {
   "cell_type": "code",
   "execution_count": 51,
   "id": "741c9683",
   "metadata": {},
   "outputs": [
    {
     "data": {
      "text/plain": [
       "<AxesSubplot:xlabel='mean_age', ylabel='Density'>"
      ]
     },
     "execution_count": 51,
     "metadata": {},
     "output_type": "execute_result"
    },
    {
     "data": {
      "image/png": "[encoded data removed]",
      "text/plain": [
       "<Figure size 640x480 with 1 Axes>"
      ]
     },
     "metadata": {},
     "output_type": "display_data"
    }
   ],
   "source": [
    "sns.kdeplot(x_train['mean_age'])"
   ]
  },
  {
   "cell_type": "code",
   "execution_count": 46,
   "id": "52eef5b0",
   "metadata": {},
   "outputs": [],
   "source": [
    "#Now we check variance"
   ]
  },
  {
   "cell_type": "code",
   "execution_count": 48,
   "id": "6413ad50",
   "metadata": {},
   "outputs": [
    {
     "name": "stdout",
     "output_type": "stream",
     "text": [
      "Original variance of Age 219.72030814084243\n",
      "mean age variance 176.1470824757808\n",
      "median age variance 176.5379633746973\n"
     ]
    }
   ],
   "source": [
    "print(\"Original variance of Age\",x_train['Age'].var())\n",
    "print(\"mean age variance\",x_train['mean_age'].var())\n",
    "print(\"median age variance\",x_train['median_age'].var())"
   ]
  },
  {
   "cell_type": "code",
   "execution_count": 49,
   "id": "dec92135",
   "metadata": {},
   "outputs": [
    {
     "name": "stdout",
     "output_type": "stream",
     "text": [
      "Original variance of fare 2552.5805842416985\n",
      "mean fare variance 2419.7458702938184\n",
      "median fare variance 2435.777983230333\n"
     ]
    }
   ],
   "source": [
    "print(\"Original variance of fare\",x_train['Fare'].var())\n",
    "print(\"mean fare variance\",x_train['mean_fare'].var())\n",
    "print(\"median fare variance\",x_train['median_fare'].var())"
   ]
  },
  {
   "cell_type": "code",
   "execution_count": 53,
   "id": "23f2c57c",
   "metadata": {},
   "outputs": [
    {
     "data": {
      "text/html": [
       "<div>\n",
       "<style scoped>\n",
       "    .dataframe tbody tr th:only-of-type {\n",
       "        vertical-align: middle;\n",
       "    }\n",
       "\n",
       "    .dataframe tbody tr th {\n",
       "        vertical-align: top;\n",
       "    }\n",
       "\n",
       "    .dataframe thead th {\n",
       "        text-align: right;\n",
       "    }\n",
       "</style>\n",
       "<table border=\"1\" class=\"dataframe\">\n",
       "  <thead>\n",
       "    <tr style=\"text-align: right;\">\n",
       "      <th></th>\n",
       "      <th>Age</th>\n",
       "      <th>Fare</th>\n",
       "      <th>Family</th>\n",
       "      <th>mean_age</th>\n",
       "      <th>median_age</th>\n",
       "      <th>mean_fare</th>\n",
       "      <th>median_fare</th>\n",
       "    </tr>\n",
       "  </thead>\n",
       "  <tbody>\n",
       "    <tr>\n",
       "      <th>Age</th>\n",
       "      <td>219.720308</td>\n",
       "      <td>81.842204</td>\n",
       "      <td>-6.975514</td>\n",
       "      <td>219.720308</td>\n",
       "      <td>219.720308</td>\n",
       "      <td>77.263418</td>\n",
       "      <td>77.379395</td>\n",
       "    </tr>\n",
       "    <tr>\n",
       "      <th>Fare</th>\n",
       "      <td>81.842204</td>\n",
       "      <td>2552.580584</td>\n",
       "      <td>16.477062</td>\n",
       "      <td>65.341466</td>\n",
       "      <td>68.432965</td>\n",
       "      <td>2552.580584</td>\n",
       "      <td>2552.580584</td>\n",
       "    </tr>\n",
       "    <tr>\n",
       "      <th>Family</th>\n",
       "      <td>-6.975514</td>\n",
       "      <td>16.477062</td>\n",
       "      <td>2.530838</td>\n",
       "      <td>-5.592185</td>\n",
       "      <td>-5.522676</td>\n",
       "      <td>15.619606</td>\n",
       "      <td>15.638016</td>\n",
       "    </tr>\n",
       "    <tr>\n",
       "      <th>mean_age</th>\n",
       "      <td>219.720308</td>\n",
       "      <td>65.341466</td>\n",
       "      <td>-5.592185</td>\n",
       "      <td>176.147082</td>\n",
       "      <td>176.147082</td>\n",
       "      <td>61.941137</td>\n",
       "      <td>62.034114</td>\n",
       "    </tr>\n",
       "    <tr>\n",
       "      <th>median_age</th>\n",
       "      <td>219.720308</td>\n",
       "      <td>68.432965</td>\n",
       "      <td>-5.522676</td>\n",
       "      <td>176.147082</td>\n",
       "      <td>176.537963</td>\n",
       "      <td>64.871755</td>\n",
       "      <td>64.872229</td>\n",
       "    </tr>\n",
       "    <tr>\n",
       "      <th>mean_fare</th>\n",
       "      <td>77.263418</td>\n",
       "      <td>2552.580584</td>\n",
       "      <td>15.619606</td>\n",
       "      <td>61.941137</td>\n",
       "      <td>64.871755</td>\n",
       "      <td>2419.745870</td>\n",
       "      <td>2419.745870</td>\n",
       "    </tr>\n",
       "    <tr>\n",
       "      <th>median_fare</th>\n",
       "      <td>77.379395</td>\n",
       "      <td>2552.580584</td>\n",
       "      <td>15.638016</td>\n",
       "      <td>62.034114</td>\n",
       "      <td>64.872229</td>\n",
       "      <td>2419.745870</td>\n",
       "      <td>2435.777983</td>\n",
       "    </tr>\n",
       "  </tbody>\n",
       "</table>\n",
       "</div>"
      ],
      "text/plain": [
       "                    Age         Fare     Family    mean_age  median_age  \\\n",
       "Age          219.720308    81.842204  -6.975514  219.720308  219.720308   \n",
       "Fare          81.842204  2552.580584  16.477062   65.341466   68.432965   \n",
       "Family        -6.975514    16.477062   2.530838   -5.592185   -5.522676   \n",
       "mean_age     219.720308    65.341466  -5.592185  176.147082  176.147082   \n",
       "median_age   219.720308    68.432965  -5.522676  176.147082  176.537963   \n",
       "mean_fare     77.263418  2552.580584  15.619606   61.941137   64.871755   \n",
       "median_fare   77.379395  2552.580584  15.638016   62.034114   64.872229   \n",
       "\n",
       "               mean_fare  median_fare  \n",
       "Age            77.263418    77.379395  \n",
       "Fare         2552.580584  2552.580584  \n",
       "Family         15.619606    15.638016  \n",
       "mean_age       61.941137    62.034114  \n",
       "median_age     64.871755    64.872229  \n",
       "mean_fare    2419.745870  2419.745870  \n",
       "median_fare  2419.745870  2435.777983  "
      ]
     },
     "execution_count": 53,
     "metadata": {},
     "output_type": "execute_result"
    }
   ],
   "source": [
    "x_train.cov()"
   ]
  },
  {
   "cell_type": "code",
   "execution_count": 54,
   "id": "cfbe3354",
   "metadata": {},
   "outputs": [
    {
     "data": {
      "text/html": [
       "<div>\n",
       "<style scoped>\n",
       "    .dataframe tbody tr th:only-of-type {\n",
       "        vertical-align: middle;\n",
       "    }\n",
       "\n",
       "    .dataframe tbody tr th {\n",
       "        vertical-align: top;\n",
       "    }\n",
       "\n",
       "    .dataframe thead th {\n",
       "        text-align: right;\n",
       "    }\n",
       "</style>\n",
       "<table border=\"1\" class=\"dataframe\">\n",
       "  <thead>\n",
       "    <tr style=\"text-align: right;\">\n",
       "      <th></th>\n",
       "      <th>Age</th>\n",
       "      <th>Fare</th>\n",
       "      <th>Family</th>\n",
       "      <th>mean_age</th>\n",
       "      <th>median_age</th>\n",
       "      <th>mean_fare</th>\n",
       "      <th>median_fare</th>\n",
       "    </tr>\n",
       "  </thead>\n",
       "  <tbody>\n",
       "    <tr>\n",
       "      <th>Age</th>\n",
       "      <td>1.000000</td>\n",
       "      <td>0.101337</td>\n",
       "      <td>-0.317731</td>\n",
       "      <td>1.000000</td>\n",
       "      <td>1.000000</td>\n",
       "      <td>0.099024</td>\n",
       "      <td>0.098783</td>\n",
       "    </tr>\n",
       "    <tr>\n",
       "      <th>Fare</th>\n",
       "      <td>0.101337</td>\n",
       "      <td>1.000000</td>\n",
       "      <td>0.202985</td>\n",
       "      <td>0.097106</td>\n",
       "      <td>0.101586</td>\n",
       "      <td>1.000000</td>\n",
       "      <td>1.000000</td>\n",
       "    </tr>\n",
       "    <tr>\n",
       "      <th>Family</th>\n",
       "      <td>-0.317731</td>\n",
       "      <td>0.202985</td>\n",
       "      <td>1.000000</td>\n",
       "      <td>-0.264857</td>\n",
       "      <td>-0.261275</td>\n",
       "      <td>0.199597</td>\n",
       "      <td>0.199173</td>\n",
       "    </tr>\n",
       "    <tr>\n",
       "      <th>mean_age</th>\n",
       "      <td>1.000000</td>\n",
       "      <td>0.097106</td>\n",
       "      <td>-0.264857</td>\n",
       "      <td>1.000000</td>\n",
       "      <td>0.998892</td>\n",
       "      <td>0.094876</td>\n",
       "      <td>0.094705</td>\n",
       "    </tr>\n",
       "    <tr>\n",
       "      <th>median_age</th>\n",
       "      <td>1.000000</td>\n",
       "      <td>0.101586</td>\n",
       "      <td>-0.261275</td>\n",
       "      <td>0.998892</td>\n",
       "      <td>1.000000</td>\n",
       "      <td>0.099255</td>\n",
       "      <td>0.098928</td>\n",
       "    </tr>\n",
       "    <tr>\n",
       "      <th>mean_fare</th>\n",
       "      <td>0.099024</td>\n",
       "      <td>1.000000</td>\n",
       "      <td>0.199597</td>\n",
       "      <td>0.094876</td>\n",
       "      <td>0.099255</td>\n",
       "      <td>1.000000</td>\n",
       "      <td>0.996704</td>\n",
       "    </tr>\n",
       "    <tr>\n",
       "      <th>median_fare</th>\n",
       "      <td>0.098783</td>\n",
       "      <td>1.000000</td>\n",
       "      <td>0.199173</td>\n",
       "      <td>0.094705</td>\n",
       "      <td>0.098928</td>\n",
       "      <td>0.996704</td>\n",
       "      <td>1.000000</td>\n",
       "    </tr>\n",
       "  </tbody>\n",
       "</table>\n",
       "</div>"
      ],
      "text/plain": [
       "                  Age      Fare    Family  mean_age  median_age  mean_fare  \\\n",
       "Age          1.000000  0.101337 -0.317731  1.000000    1.000000   0.099024   \n",
       "Fare         0.101337  1.000000  0.202985  0.097106    0.101586   1.000000   \n",
       "Family      -0.317731  0.202985  1.000000 -0.264857   -0.261275   0.199597   \n",
       "mean_age     1.000000  0.097106 -0.264857  1.000000    0.998892   0.094876   \n",
       "median_age   1.000000  0.101586 -0.261275  0.998892    1.000000   0.099255   \n",
       "mean_fare    0.099024  1.000000  0.199597  0.094876    0.099255   1.000000   \n",
       "median_fare  0.098783  1.000000  0.199173  0.094705    0.098928   0.996704   \n",
       "\n",
       "             median_fare  \n",
       "Age             0.098783  \n",
       "Fare            1.000000  \n",
       "Family          0.199173  \n",
       "mean_age        0.094705  \n",
       "median_age      0.098928  \n",
       "mean_fare       0.996704  \n",
       "median_fare     1.000000  "
      ]
     },
     "execution_count": 54,
     "metadata": {},
     "output_type": "execute_result"
    }
   ],
   "source": [
    "x_train.corr()"
   ]
  },
  {
   "cell_type": "code",
   "execution_count": 55,
   "id": "ed1304d0",
   "metadata": {},
   "outputs": [],
   "source": [
    "x_train,x_test,y_train,y_test = train_test_split(x,y,test_size=0.2)"
   ]
  },
  {
   "cell_type": "code",
   "execution_count": 57,
   "id": "bac564db",
   "metadata": {},
   "outputs": [
    {
     "data": {
      "text/html": [
       "<div>\n",
       "<style scoped>\n",
       "    .dataframe tbody tr th:only-of-type {\n",
       "        vertical-align: middle;\n",
       "    }\n",
       "\n",
       "    .dataframe tbody tr th {\n",
       "        vertical-align: top;\n",
       "    }\n",
       "\n",
       "    .dataframe thead th {\n",
       "        text-align: right;\n",
       "    }\n",
       "</style>\n",
       "<table border=\"1\" class=\"dataframe\">\n",
       "  <thead>\n",
       "    <tr style=\"text-align: right;\">\n",
       "      <th></th>\n",
       "      <th>Age</th>\n",
       "      <th>Fare</th>\n",
       "      <th>Family</th>\n",
       "    </tr>\n",
       "  </thead>\n",
       "  <tbody>\n",
       "    <tr>\n",
       "      <th>182</th>\n",
       "      <td>9.0</td>\n",
       "      <td>31.3875</td>\n",
       "      <td>6</td>\n",
       "    </tr>\n",
       "    <tr>\n",
       "      <th>196</th>\n",
       "      <td>NaN</td>\n",
       "      <td>7.7500</td>\n",
       "      <td>0</td>\n",
       "    </tr>\n",
       "    <tr>\n",
       "      <th>152</th>\n",
       "      <td>55.5</td>\n",
       "      <td>8.0500</td>\n",
       "      <td>0</td>\n",
       "    </tr>\n",
       "    <tr>\n",
       "      <th>254</th>\n",
       "      <td>41.0</td>\n",
       "      <td>20.2125</td>\n",
       "      <td>2</td>\n",
       "    </tr>\n",
       "    <tr>\n",
       "      <th>502</th>\n",
       "      <td>NaN</td>\n",
       "      <td>7.6292</td>\n",
       "      <td>0</td>\n",
       "    </tr>\n",
       "    <tr>\n",
       "      <th>...</th>\n",
       "      <td>...</td>\n",
       "      <td>...</td>\n",
       "      <td>...</td>\n",
       "    </tr>\n",
       "    <tr>\n",
       "      <th>405</th>\n",
       "      <td>34.0</td>\n",
       "      <td>21.0000</td>\n",
       "      <td>1</td>\n",
       "    </tr>\n",
       "    <tr>\n",
       "      <th>432</th>\n",
       "      <td>42.0</td>\n",
       "      <td>26.0000</td>\n",
       "      <td>1</td>\n",
       "    </tr>\n",
       "    <tr>\n",
       "      <th>659</th>\n",
       "      <td>58.0</td>\n",
       "      <td>113.2750</td>\n",
       "      <td>2</td>\n",
       "    </tr>\n",
       "    <tr>\n",
       "      <th>266</th>\n",
       "      <td>16.0</td>\n",
       "      <td>NaN</td>\n",
       "      <td>5</td>\n",
       "    </tr>\n",
       "    <tr>\n",
       "      <th>796</th>\n",
       "      <td>49.0</td>\n",
       "      <td>25.9292</td>\n",
       "      <td>0</td>\n",
       "    </tr>\n",
       "  </tbody>\n",
       "</table>\n",
       "<p>712 rows × 3 columns</p>\n",
       "</div>"
      ],
      "text/plain": [
       "      Age      Fare  Family\n",
       "182   9.0   31.3875       6\n",
       "196   NaN    7.7500       0\n",
       "152  55.5    8.0500       0\n",
       "254  41.0   20.2125       2\n",
       "502   NaN    7.6292       0\n",
       "..    ...       ...     ...\n",
       "405  34.0   21.0000       1\n",
       "432  42.0   26.0000       1\n",
       "659  58.0  113.2750       2\n",
       "266  16.0       NaN       5\n",
       "796  49.0   25.9292       0\n",
       "\n",
       "[712 rows x 3 columns]"
      ]
     },
     "execution_count": 57,
     "metadata": {},
     "output_type": "execute_result"
    }
   ],
   "source": [
    "x_train"
   ]
  },
  {
   "cell_type": "code",
   "execution_count": 56,
   "id": "077c1f49",
   "metadata": {},
   "outputs": [],
   "source": [
    "imp1 = SimpleImputer(strategy='mean')\n",
    "imp2 = SimpleImputer(strategy='median')"
   ]
  },
  {
   "cell_type": "code",
   "execution_count": 58,
   "id": "22f5ddb9",
   "metadata": {},
   "outputs": [],
   "source": [
    "trf1 = ColumnTransformer([\n",
    "    ('mean for age',imp1,['Age']),\n",
    "    ('median for fare',imp1,['Fare'])\n",
    "],remainder='passthrough')"
   ]
  },
  {
   "cell_type": "code",
   "execution_count": 59,
   "id": "d070b304",
   "metadata": {},
   "outputs": [
    {
     "data": {
      "text/plain": [
       "ColumnTransformer(remainder='passthrough',\n",
       "                  transformers=[('mean for age', SimpleImputer(), ['Age']),\n",
       "                                ('median for fare', SimpleImputer(), ['Fare'])])"
      ]
     },
     "execution_count": 59,
     "metadata": {},
     "output_type": "execute_result"
    }
   ],
   "source": [
    "trf1.fit(x_train)"
   ]
  },
  {
   "cell_type": "code",
   "execution_count": 60,
   "id": "b4ad2d5b",
   "metadata": {},
   "outputs": [],
   "source": [
    "x_train = trf1.fit_transform(x_train)"
   ]
  },
  {
   "cell_type": "code",
   "execution_count": 62,
   "id": "0e406b63",
   "metadata": {},
   "outputs": [
    {
     "data": {
      "text/plain": [
       "array([[  9.        ,  31.3875    ,   6.        ],\n",
       "       [ 29.46322414,   7.75      ,   0.        ],\n",
       "       [ 55.5       ,   8.05      ,   0.        ],\n",
       "       ...,\n",
       "       [ 58.        , 113.275     ,   2.        ],\n",
       "       [ 16.        ,  30.70825846,   5.        ],\n",
       "       [ 49.        ,  25.9292    ,   0.        ]])"
      ]
     },
     "execution_count": 62,
     "metadata": {},
     "output_type": "execute_result"
    }
   ],
   "source": [
    "x_train"
   ]
  },
  {
   "cell_type": "code",
   "execution_count": 65,
   "id": "0a714eb1",
   "metadata": {},
   "outputs": [
    {
     "data": {
      "text/plain": [
       "array([ 9.    , 31.3875])"
      ]
     },
     "execution_count": 65,
     "metadata": {},
     "output_type": "execute_result"
    }
   ],
   "source": [
    "x_train"
   ]
  },
  {
   "cell_type": "code",
   "execution_count": 68,
   "id": "c35dccda",
   "metadata": {},
   "outputs": [],
   "source": [
    "df = pd.DataFrame(x_train,columns=['Age','Fare','Family'])"
   ]
  },
  {
   "cell_type": "code",
   "execution_count": 69,
   "id": "f067f730",
   "metadata": {},
   "outputs": [
    {
     "data": {
      "text/html": [
       "<div>\n",
       "<style scoped>\n",
       "    .dataframe tbody tr th:only-of-type {\n",
       "        vertical-align: middle;\n",
       "    }\n",
       "\n",
       "    .dataframe tbody tr th {\n",
       "        vertical-align: top;\n",
       "    }\n",
       "\n",
       "    .dataframe thead th {\n",
       "        text-align: right;\n",
       "    }\n",
       "</style>\n",
       "<table border=\"1\" class=\"dataframe\">\n",
       "  <thead>\n",
       "    <tr style=\"text-align: right;\">\n",
       "      <th></th>\n",
       "      <th>Age</th>\n",
       "      <th>Fare</th>\n",
       "      <th>Family</th>\n",
       "    </tr>\n",
       "  </thead>\n",
       "  <tbody>\n",
       "    <tr>\n",
       "      <th>0</th>\n",
       "      <td>9.000000</td>\n",
       "      <td>31.387500</td>\n",
       "      <td>6.0</td>\n",
       "    </tr>\n",
       "    <tr>\n",
       "      <th>1</th>\n",
       "      <td>29.463224</td>\n",
       "      <td>7.750000</td>\n",
       "      <td>0.0</td>\n",
       "    </tr>\n",
       "    <tr>\n",
       "      <th>2</th>\n",
       "      <td>55.500000</td>\n",
       "      <td>8.050000</td>\n",
       "      <td>0.0</td>\n",
       "    </tr>\n",
       "    <tr>\n",
       "      <th>3</th>\n",
       "      <td>41.000000</td>\n",
       "      <td>20.212500</td>\n",
       "      <td>2.0</td>\n",
       "    </tr>\n",
       "    <tr>\n",
       "      <th>4</th>\n",
       "      <td>29.463224</td>\n",
       "      <td>7.629200</td>\n",
       "      <td>0.0</td>\n",
       "    </tr>\n",
       "    <tr>\n",
       "      <th>...</th>\n",
       "      <td>...</td>\n",
       "      <td>...</td>\n",
       "      <td>...</td>\n",
       "    </tr>\n",
       "    <tr>\n",
       "      <th>707</th>\n",
       "      <td>34.000000</td>\n",
       "      <td>21.000000</td>\n",
       "      <td>1.0</td>\n",
       "    </tr>\n",
       "    <tr>\n",
       "      <th>708</th>\n",
       "      <td>42.000000</td>\n",
       "      <td>26.000000</td>\n",
       "      <td>1.0</td>\n",
       "    </tr>\n",
       "    <tr>\n",
       "      <th>709</th>\n",
       "      <td>58.000000</td>\n",
       "      <td>113.275000</td>\n",
       "      <td>2.0</td>\n",
       "    </tr>\n",
       "    <tr>\n",
       "      <th>710</th>\n",
       "      <td>16.000000</td>\n",
       "      <td>30.708258</td>\n",
       "      <td>5.0</td>\n",
       "    </tr>\n",
       "    <tr>\n",
       "      <th>711</th>\n",
       "      <td>49.000000</td>\n",
       "      <td>25.929200</td>\n",
       "      <td>0.0</td>\n",
       "    </tr>\n",
       "  </tbody>\n",
       "</table>\n",
       "<p>712 rows × 3 columns</p>\n",
       "</div>"
      ],
      "text/plain": [
       "           Age        Fare  Family\n",
       "0     9.000000   31.387500     6.0\n",
       "1    29.463224    7.750000     0.0\n",
       "2    55.500000    8.050000     0.0\n",
       "3    41.000000   20.212500     2.0\n",
       "4    29.463224    7.629200     0.0\n",
       "..         ...         ...     ...\n",
       "707  34.000000   21.000000     1.0\n",
       "708  42.000000   26.000000     1.0\n",
       "709  58.000000  113.275000     2.0\n",
       "710  16.000000   30.708258     5.0\n",
       "711  49.000000   25.929200     0.0\n",
       "\n",
       "[712 rows x 3 columns]"
      ]
     },
     "execution_count": 69,
     "metadata": {},
     "output_type": "execute_result"
    }
   ],
   "source": [
    "df"
   ]
  },
  {
   "cell_type": "code",
   "execution_count": null,
   "id": "fc5c2383",
   "metadata": {},
   "outputs": [],
   "source": []
  }
 ],
 "metadata": {
  "kernelspec": {
   "display_name": "Python 3 (ipykernel)",
   "language": "python",
   "name": "python3"
  },
  "language_info": {
   "codemirror_mode": {
    "name": "ipython",
    "version": 3
   },
   "file_extension": ".py",
   "mimetype": "text/x-python",
   "name": "python",
   "nbconvert_exporter": "python",
   "pygments_lexer": "ipython3",
   "version": "3.10.9"
  }
 },
 "nbformat": 4,
 "nbformat_minor": 5
}
