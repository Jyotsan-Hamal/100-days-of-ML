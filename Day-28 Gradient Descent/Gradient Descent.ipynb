{
 "cells": [
  {
   "cell_type": "code",
   "execution_count": 32,
   "id": "b59bb017",
   "metadata": {},
   "outputs": [],
   "source": [
    "import numpy as np\n",
    "from sklearn.datasets import make_regression\n",
    "from sklearn.linear_model import LinearRegression\n",
    "from matplotlib import pyplot as plt\n",
    "from sklearn.model_selection import cross_val_score\n",
    "from sklearn.metrics import r2_score"
   ]
  },
  {
   "cell_type": "code",
   "execution_count": 8,
   "id": "823d7f97",
   "metadata": {},
   "outputs": [],
   "source": [
    "X,Y = make_regression(n_samples=100,n_features=1,n_targets=1,noise=20)"
   ]
  },
  {
   "cell_type": "code",
   "execution_count": 9,
   "id": "13517070",
   "metadata": {},
   "outputs": [
    {
     "data": {
      "text/plain": [
       "<matplotlib.collections.PathCollection at 0x1df5588f1f0>"
      ]
     },
     "execution_count": 9,
     "metadata": {},
     "output_type": "execute_result"
    },
    {
     "data": {
      "image/png": "[encoded data removed]",
      "text/plain": [
       "<Figure size 640x480 with 1 Axes>"
      ]
     },
     "metadata": {},
     "output_type": "display_data"
    }
   ],
   "source": [
    "plt.scatter(X,Y)"
   ]
  },
  {
   "cell_type": "code",
   "execution_count": 10,
   "id": "9ac54393",
   "metadata": {},
   "outputs": [],
   "source": [
    "lr = LinearRegression()"
   ]
  },
  {
   "cell_type": "code",
   "execution_count": 11,
   "id": "6fb00a8e",
   "metadata": {},
   "outputs": [
    {
     "data": {
      "text/plain": [
       "LinearRegression()"
      ]
     },
     "execution_count": 11,
     "metadata": {},
     "output_type": "execute_result"
    }
   ],
   "source": [
    "lr.fit(X,Y)"
   ]
  },
  {
   "cell_type": "code",
   "execution_count": 12,
   "id": "dab65f31",
   "metadata": {},
   "outputs": [
    {
     "data": {
      "text/plain": [
       "(1.6892646664955442, array([80.54153395]))"
      ]
     },
     "execution_count": 12,
     "metadata": {},
     "output_type": "execute_result"
    }
   ],
   "source": [
    "lr.intercept_,lr.coef_"
   ]
  },
  {
   "cell_type": "code",
   "execution_count": 18,
   "id": "69a0002c",
   "metadata": {},
   "outputs": [
    {
     "data": {
      "text/plain": [
       "0.9263290775402572"
      ]
     },
     "execution_count": 18,
     "metadata": {},
     "output_type": "execute_result"
    }
   ],
   "source": [
    "np.mean(cross_val_score(lr,X,Y,scoring='r2',cv=10))"
   ]
  },
  {
   "cell_type": "code",
   "execution_count": 27,
   "id": "ee1f2a19",
   "metadata": {},
   "outputs": [],
   "source": [
    "class Gradient_Descent:\n",
    "    def __init__(self,learnR,epochs):\n",
    "        self.lr = learnR\n",
    "        self.ep = epochs\n",
    "        self.m = 100  #random value\n",
    "        self.b = 10 #random value\n",
    "    def fit(self,x_train,y_train):\n",
    "        for i in range(self.ep):\n",
    "            slope_m = -2*np.sum((y_train - self.m*x_train.ravel() - self.b)*x_train.ravel())\n",
    "            slope_b = -2*np.sum(y_train - self.m*x_train.ravel() - self.b)\n",
    "            self.m = self.m - self.lr*slope_m\n",
    "            self.b = self.b - self.lr*slope_b\n",
    "            print(self.m , self.b)\n",
    "    def predict(self,x_test):\n",
    "        y_pred = self.m*x_test - self.b\n",
    "        return y_pred\n",
    "    \n",
    "        "
   ]
  },
  {
   "cell_type": "code",
   "execution_count": 28,
   "id": "2edf313e",
   "metadata": {},
   "outputs": [],
   "source": [
    "gd = Gradient_Descent(0.001,20)"
   ]
  },
  {
   "cell_type": "code",
   "execution_count": 29,
   "id": "7cb58553",
   "metadata": {},
   "outputs": [
    {
     "name": "stdout",
     "output_type": "stream",
     "text": [
      "95.48570993835509 8.499346041115336\n",
      "92.02226518311389 7.2613570876712235\n",
      "89.36432867478487 6.242221497903982\n",
      "87.32398664840717 5.404853814130636\n",
      "85.75727892407711 4.718026103391077\n",
      "84.5538946551967 4.155561239790966\n",
      "83.62928845386438 3.6956020115260904\n",
      "82.91864742497407 3.3199609752695705\n",
      "82.3722738145328 3.0135502698349055\n",
      "81.95205050080803 2.7638871459730314\n",
      "81.62873490296191 2.5606690559953558\n",
      "81.37988675830243 2.395411266605005\n",
      "81.188280985091 2.2611397510080278\n",
      "81.04069183221729 2.152132330355533\n",
      "80.92696126295003 2.063701496099536\n",
      "80.83928496994834 1.992012936044976\n",
      "80.7716650567962 1.9339344295621246\n",
      "80.71949038132776 1.8869104213552914\n",
      "80.67921470429035 1.84885819758965\n",
      "80.64810978547732 1.8180821556277404\n"
     ]
    }
   ],
   "source": [
    "gd.fit(X,Y)"
   ]
  },
  {
   "cell_type": "code",
   "execution_count": 31,
   "id": "ff9659f2",
   "metadata": {},
   "outputs": [],
   "source": [
    "y_p = gd.predict(X)"
   ]
  },
  {
   "cell_type": "code",
   "execution_count": 33,
   "id": "462919dc",
   "metadata": {},
   "outputs": [
    {
     "data": {
      "text/plain": [
       "0.9408870325213393"
      ]
     },
     "execution_count": 33,
     "metadata": {},
     "output_type": "execute_result"
    }
   ],
   "source": [
    "r2_score(Y,y_p)"
   ]
  },
  {
   "cell_type": "code",
   "execution_count": null,
   "id": "5b6b6e96",
   "metadata": {},
   "outputs": [],
   "source": []
  }
 ],
 "metadata": {
  "kernelspec": {
   "display_name": "Python 3 (ipykernel)",
   "language": "python",
   "name": "python3"
  },
  "language_info": {
   "codemirror_mode": {
    "name": "ipython",
    "version": 3
   },
   "file_extension": ".py",
   "mimetype": "text/x-python",
   "name": "python",
   "nbconvert_exporter": "python",
   "pygments_lexer": "ipython3",
   "version": "3.9.13"
  }
 },
 "nbformat": 4,
 "nbformat_minor": 5
}
