{
 "cells": [
  {
   "cell_type": "code",
   "execution_count": 1,
   "id": "300c5ef0",
   "metadata": {},
   "outputs": [],
   "source": [
    "from sklearn.datasets import load_diabetes\n",
    "import numpy as np\n",
    "from sklearn.datasets import make_regression\n",
    "from sklearn.metrics import r2_score\n",
    "from sklearn.linear_model import LinearRegression\n",
    "from sklearn.model_selection import train_test_split"
   ]
  },
  {
   "cell_type": "code",
   "execution_count": 2,
   "id": "678203c3",
   "metadata": {},
   "outputs": [],
   "source": [
    "data = load_diabetes()"
   ]
  },
  {
   "cell_type": "code",
   "execution_count": 4,
   "id": "4ab6004e",
   "metadata": {},
   "outputs": [],
   "source": [
    "x  =data.data\n",
    "y = data.target"
   ]
  },
  {
   "cell_type": "code",
   "execution_count": 5,
   "id": "65cef493",
   "metadata": {},
   "outputs": [],
   "source": [
    "x_train,x_test,y_train,y_test = train_test_split(x,y,test_size=0.2)"
   ]
  },
  {
   "cell_type": "code",
   "execution_count": 6,
   "id": "c1f29df2",
   "metadata": {},
   "outputs": [
    {
     "data": {
      "text/plain": [
       "LinearRegression()"
      ]
     },
     "execution_count": 6,
     "metadata": {},
     "output_type": "execute_result"
    }
   ],
   "source": [
    "lr = LinearRegression()\n",
    "lr.fit(x_train,y_train)"
   ]
  },
  {
   "cell_type": "code",
   "execution_count": 7,
   "id": "32f0dce7",
   "metadata": {},
   "outputs": [
    {
     "data": {
      "text/plain": [
       "(150.99752277131552,\n",
       " array([  -6.44952177, -239.9176012 ,  528.26157706,  298.89778664,\n",
       "        -931.05135023,  577.70663179,  148.44560468,  147.35329341,\n",
       "         807.98918268,  122.07101297]))"
      ]
     },
     "execution_count": 7,
     "metadata": {},
     "output_type": "execute_result"
    }
   ],
   "source": [
    "lr.intercept_,lr.coef_"
   ]
  },
  {
   "cell_type": "code",
   "execution_count": 8,
   "id": "9e2d303b",
   "metadata": {},
   "outputs": [
    {
     "data": {
      "text/plain": [
       "0.4852223260219889"
      ]
     },
     "execution_count": 8,
     "metadata": {},
     "output_type": "execute_result"
    }
   ],
   "source": [
    "y_pred = lr.predict(x_test)\n",
    "r2_score(y_test,y_pred)"
   ]
  },
  {
   "cell_type": "code",
   "execution_count": 25,
   "id": "20444d1f",
   "metadata": {},
   "outputs": [],
   "source": [
    "import random\n",
    "class Mini_Batch_Gradient:\n",
    "    def __init__(self,batch_size,learning_rate=0.01,epochs=100):\n",
    "        self.coef_ = None\n",
    "        self.intercept_ = None\n",
    "        self.lr = learning_rate\n",
    "        self.ep = epochs\n",
    "        self.batch = batch_size\n",
    "        \n",
    "    def fit(self,x_train,y_train):\n",
    "        #initiaiting coefficent\n",
    "        self.intercept_ = 0\n",
    "        self.coef_ = np.ones(x_train.shape[1])\n",
    "        for i in range(self.ep):\n",
    "            \n",
    "            for j in range(int(x_train.shape[0]/self.batch)):\n",
    "                idx = random.sample(range(x_train.shape[0]),self.batch)\n",
    "            #update slope\n",
    "                y_hat = np.dot(x_train[idx],self.coef_) + self.intercept_\n",
    "            \n",
    "                intercept_der = -2*np.mean(y_train[idx]-y_hat)\n",
    "                coef_der = -2*np.dot((y_train[idx]-y_hat),x_train[idx])\n",
    "            \n",
    "            self.intercept_ = self.intercept_ - (self.lr*intercept_der)\n",
    "            self.coef_ = self.coef_ - (self.lr*coef_der)\n",
    "        print(self.intercept_,self.coef_)\n",
    "        \n",
    "    def predict(self,x_test):\n",
    "        return np.dot(x_test,self.coef_)+self.intercept_"
   ]
  },
  {
   "cell_type": "code",
   "execution_count": 46,
   "id": "4e005857",
   "metadata": {},
   "outputs": [],
   "source": [
    "gd = Mini_Batch_Gradient(batch_size=int(x_train.shape[0]/50),learning_rate=0.09,epochs=200)"
   ]
  },
  {
   "cell_type": "code",
   "execution_count": 47,
   "id": "4e7d3f36",
   "metadata": {},
   "outputs": [
    {
     "name": "stdout",
     "output_type": "stream",
     "text": [
      "152.50272777264558 [  47.2984948   -74.80680614  305.51443384  187.93765871   39.90704738\n",
      "   15.35083787 -150.69071628  140.6415586   246.83189094  175.25784101]\n"
     ]
    }
   ],
   "source": [
    "gd.fit(x_train,y_train)"
   ]
  },
  {
   "cell_type": "code",
   "execution_count": 48,
   "id": "febbfeb1",
   "metadata": {},
   "outputs": [],
   "source": [
    "y_pred = gd.predict(x_test)"
   ]
  },
  {
   "cell_type": "code",
   "execution_count": 49,
   "id": "de8a7faa",
   "metadata": {},
   "outputs": [
    {
     "data": {
      "text/plain": [
       "0.444489151895757"
      ]
     },
     "execution_count": 49,
     "metadata": {},
     "output_type": "execute_result"
    }
   ],
   "source": [
    "r2_score(y_test,y_pred)"
   ]
  },
  {
   "cell_type": "code",
   "execution_count": null,
   "id": "4233043f",
   "metadata": {},
   "outputs": [],
   "source": []
  }
 ],
 "metadata": {
  "kernelspec": {
   "display_name": "Python 3 (ipykernel)",
   "language": "python",
   "name": "python3"
  },
  "language_info": {
   "codemirror_mode": {
    "name": "ipython",
    "version": 3
   },
   "file_extension": ".py",
   "mimetype": "text/x-python",
   "name": "python",
   "nbconvert_exporter": "python",
   "pygments_lexer": "ipython3",
   "version": "3.9.13"
  }
 },
 "nbformat": 4,
 "nbformat_minor": 5
}
